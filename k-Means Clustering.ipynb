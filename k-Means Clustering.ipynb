{
 "cells": [
  {
   "cell_type": "code",
   "execution_count": 45,
   "id": "f6de12a9",
   "metadata": {},
   "outputs": [],
   "source": [
    "#Comenzaremos cargando los dígitos y luego encontrando los KMeansgrupos"
   ]
  },
  {
   "cell_type": "code",
   "execution_count": null,
   "id": "e6d13b60",
   "metadata": {},
   "outputs": [],
   "source": [
    "%matplotlib inline\n",
    "import matplotlib.pyplot as plt\n",
    "import seaborn as sns; sns.set()  # for plot styling\n",
    "import numpy as np"
   ]
  },
  {
   "cell_type": "code",
   "execution_count": 46,
   "id": "f69f0662",
   "metadata": {},
   "outputs": [
    {
     "data": {
      "text/plain": [
       "(1797, 64)"
      ]
     },
     "execution_count": 46,
     "metadata": {},
     "output_type": "execute_result"
    }
   ],
   "source": [
    "from sklearn.datasets import load_digits\n",
    "digits = load_digits()\n",
    "digits.data.shape"
   ]
  },
  {
   "cell_type": "code",
   "execution_count": null,
   "id": "9da40570",
   "metadata": {},
   "outputs": [],
   "source": [
    "#La agrupación se puede realizar como lo hicimos antes:"
   ]
  },
  {
   "cell_type": "code",
   "execution_count": 52,
   "id": "ea8d8d01",
   "metadata": {},
   "outputs": [
    {
     "data": {
      "text/plain": [
       "(10, 64)"
      ]
     },
     "execution_count": 52,
     "metadata": {},
     "output_type": "execute_result"
    }
   ],
   "source": [
    "from sklearn.cluster import KMeans\n",
    "import numpy as np\n",
    "kmeans = KMeans(n_clusters=10, random_state=0)\n",
    "clusters = kmeans.fit_predict(digits.data)\n",
    "kmeans.cluster_centers_.shape"
   ]
  },
  {
   "cell_type": "code",
   "execution_count": null,
   "id": "02264cc2",
   "metadata": {},
   "outputs": [],
   "source": [
    "#El resultado son 10 clústeres en 64 dimensiones."
   ]
  },
  {
   "cell_type": "code",
   "execution_count": 53,
   "id": "6e3e3a31",
   "metadata": {
    "scrolled": true
   },
   "outputs": [
    {
     "data": {
      "image/png": "[encoded data removed]",
      "text/plain": [
       "<Figure size 576x216 with 10 Axes>"
      ]
     },
     "metadata": {},
     "output_type": "display_data"
    }
   ],
   "source": [
    "fig, ax = plt.subplots(2, 5, figsize=(8, 3))\n",
    "centers = kmeans.cluster_centers_.reshape(10, 8, 8)\n",
    "for axi, center in zip(ax.flat, centers):\n",
    "    axi.set(xticks=[], yticks=[])\n",
    "    axi.imshow(center, interpolation='nearest', cmap=plt.cm.binary)"
   ]
  },
  {
   "cell_type": "code",
   "execution_count": null,
   "id": "c4581de4",
   "metadata": {},
   "outputs": [],
   "source": [
    "#KMeanses capaz de encontrar grupos cuyos centros son dígitos reconocibles, quizás con la excepción de 1 y 8"
   ]
  },
  {
   "cell_type": "code",
   "execution_count": 54,
   "id": "312ae337",
   "metadata": {},
   "outputs": [],
   "source": [
    "from scipy.stats import mode\n",
    "\n",
    "labels = np.zeros_like(clusters)\n",
    "for i in range(10):\n",
    "    mask = (clusters == i)\n",
    "    labels[mask] = mode(digits.target[mask])[0]"
   ]
  },
  {
   "cell_type": "code",
   "execution_count": null,
   "id": "aa3ef1cd",
   "metadata": {},
   "outputs": [],
   "source": [
    "#Ahora podemos verificar qué tan precisa fue nuestra agrupación no supervisada para encontrar dígitos similares dentro de los datos:"
   ]
  },
  {
   "cell_type": "code",
   "execution_count": 55,
   "id": "be3b8b67",
   "metadata": {},
   "outputs": [
    {
     "data": {
      "text/plain": [
       "0.7935447968836951"
      ]
     },
     "execution_count": 55,
     "metadata": {},
     "output_type": "execute_result"
    }
   ],
   "source": [
    "from sklearn.metrics import accuracy_score\n",
    "accuracy_score(digits.target, labels)"
   ]
  },
  {
   "cell_type": "code",
   "execution_count": null,
   "id": "168d216b",
   "metadata": {},
   "outputs": [],
   "source": [
    "#¡ Con solo un simple algoritmo k -means, descubrimos la agrupación correcta para el 80% de los dígitos de entrada! Revisemos la matriz de confusión para esto:"
   ]
  },
  {
   "cell_type": "code",
   "execution_count": 56,
   "id": "407ba36b",
   "metadata": {},
   "outputs": [
    {
     "data": {
      "image/png": "[encoded data removed]",
      "text/plain": [
       "<Figure size 432x288 with 1 Axes>"
      ]
     },
     "metadata": {},
     "output_type": "display_data"
    }
   ],
   "source": [
    "from sklearn.metrics import confusion_matrix\n",
    "mat = confusion_matrix(digits.target, labels)\n",
    "sns.heatmap(mat.T, square=True, annot=True, fmt='d', cbar=False,\n",
    "            xticklabels=digits.target_names,\n",
    "            yticklabels=digits.target_names)\n",
    "plt.xlabel('true label')\n",
    "plt.ylabel('predicted label');"
   ]
  },
  {
   "cell_type": "code",
   "execution_count": null,
   "id": "f3a657bb",
   "metadata": {},
   "outputs": [],
   "source": [
    "#Como cabría esperar de los centros de los cúmulos que visualizamos antes, el principal punto de confusión está entre los ochos y los unos."
   ]
  },
  {
   "cell_type": "code",
   "execution_count": 57,
   "id": "b9cbd4bb",
   "metadata": {},
   "outputs": [
    {
     "name": "stderr",
     "output_type": "stream",
     "text": [
      "C:\\ProgramData\\Anaconda3\\lib\\site-packages\\sklearn\\manifold\\_t_sne.py:790: FutureWarning: The default learning rate in TSNE will change from 200.0 to 'auto' in 1.2.\n",
      "  warnings.warn(\n"
     ]
    },
    {
     "data": {
      "text/plain": [
       "0.9432387312186978"
      ]
     },
     "execution_count": 57,
     "metadata": {},
     "output_type": "execute_result"
    }
   ],
   "source": [
    "from sklearn.manifold import TSNE\n",
    "\n",
    "# Project the data: this step will take several seconds\n",
    "tsne = TSNE(n_components=2, init='random', random_state=0)\n",
    "digits_proj = tsne.fit_transform(digits.data)\n",
    "\n",
    "# Compute the clusters\n",
    "kmeans = KMeans(n_clusters=10, random_state=0)\n",
    "clusters = kmeans.fit_predict(digits_proj)\n",
    "\n",
    "# Permute the labels\n",
    "labels = np.zeros_like(clusters)\n",
    "for i in range(10):\n",
    "    mask = (clusters == i)\n",
    "    labels[mask] = mode(digits.target[mask])[0]\n",
    "\n",
    "# Compute the accuracy\n",
    "accuracy_score(digits.target, labels)"
   ]
  },
  {
   "cell_type": "code",
   "execution_count": null,
   "id": "dda84c8b",
   "metadata": {},
   "outputs": [],
   "source": [
    "#Eso es casi un 92% de precisión de clasificación sin usar las etiquetas . Este es el poder del aprendizaje no supervisado cuando se usa con cuidado: puede extraer información del conjunto de datos que podría ser difícil de hacer a mano oa simple vista."
   ]
  },
  {
   "cell_type": "code",
   "execution_count": null,
   "id": "06ea40f3",
   "metadata": {},
   "outputs": [],
   "source": [
    "#CONCLUSION : Eso es casi un 95% de precisión de clasificación sin usar las etiquetas . Este es el poder del aprendizaje no supervisado cuando se usa con cuidado: puede extraer información del conjunto de datos que podría ser difícil de hacer a mano La simple vista."
   ]
  }
 ],
 "metadata": {
  "kernelspec": {
   "display_name": "Python 3.10.4 64-bit",
   "language": "python",
   "name": "python3"
  },
  "language_info": {
   "codemirror_mode": {
    "name": "ipython",
    "version": 3
   },
   "file_extension": ".py",
   "mimetype": "text/x-python",
   "name": "python",
   "nbconvert_exporter": "python",
   "pygments_lexer": "ipython3",
   "version": "3.10.4"
  },
  "vscode": {
   "interpreter": {
    "hash": "369f2c481f4da34e4445cda3fffd2e751bd1c4d706f27375911949ba6bb62e1c"
   }
  }
 },
 "nbformat": 4,
 "nbformat_minor": 5
}
